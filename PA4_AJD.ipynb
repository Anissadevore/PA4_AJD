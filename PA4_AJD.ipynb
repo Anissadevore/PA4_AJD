{
 "cells": [
  {
   "cell_type": "markdown",
   "metadata": {},
   "source": [
    "## Anissa Devore\n",
    "## CS150-01\n",
    "## Programming Assignment 4\n"
   ]
  },
  {
   "cell_type": "code",
   "execution_count": 1,
   "metadata": {},
   "outputs": [
    {
     "name": "stdout",
     "output_type": "stream",
     "text": [
      "Updated animals list:  ['cat', 'dog', 'rabbit', ['tiger', 'fox']]\n"
     ]
    }
   ],
   "source": [
    "# append\n",
    "animals = ['cat', 'dog', 'rabbit']\n",
    "wild_animals = ['tiger', 'fox']\n",
    "animals.append(wild_animals)\n",
    "print('Updated animals list: ', animals)"
   ]
  },
  {
   "cell_type": "code",
   "execution_count": 2,
   "metadata": {},
   "outputs": [
    {
     "name": "stdout",
     "output_type": "stream",
     "text": [
      "List after extend(): [1, 4, 2, 3, 5]\n"
     ]
    }
   ],
   "source": [
    "#extend\n",
    "prime_numbers = [2, 3, 5]\n",
    "numbers = [1, 4]\n",
    "numbers.extend(prime_numbers)\n",
    "print('List after extend():', numbers)"
   ]
  },
  {
   "cell_type": "code",
   "execution_count": 3,
   "metadata": {},
   "outputs": [
    {
     "name": "stdout",
     "output_type": "stream",
     "text": [
      "List: ['a', 'e', 'i', 'o', 'u']\n"
     ]
    }
   ],
   "source": [
    "#insert\n",
    "vowel = ['a', 'e', 'i', 'u']\n",
    "vowel.insert(3, 'o')\n",
    "print('List:', vowel)"
   ]
  },
  {
   "cell_type": "code",
   "execution_count": 4,
   "metadata": {},
   "outputs": [
    {
     "name": "stdout",
     "output_type": "stream",
     "text": [
      "Updated List:  [2, 3, 5, 7, 11]\n"
     ]
    }
   ],
   "source": [
    "#remove\n",
    "prime_numbers = [2, 3, 5, 7, 9, 11]\n",
    "prime_numbers.remove(9)\n",
    "print('Updated List: ', prime_numbers)"
   ]
  },
  {
   "cell_type": "code",
   "execution_count": 5,
   "metadata": {},
   "outputs": [
    {
     "name": "stdout",
     "output_type": "stream",
     "text": [
      "Count of 2: 3\n"
     ]
    }
   ],
   "source": [
    "#count\n",
    "numbers = [2, 3, 5, 2, 11, 2, 7]\n",
    "# check the count of 2\n",
    "count = numbers.count(2)\n",
    "print('Count of 2:', count)"
   ]
  },
  {
   "cell_type": "code",
   "execution_count": 6,
   "metadata": {},
   "outputs": [
    {
     "name": "stdout",
     "output_type": "stream",
     "text": [
      "1\n"
     ]
    }
   ],
   "source": [
    "#index\n",
    "animals = ['cat', 'dog', 'rabbit', 'horse']\n",
    "# get the index of 'dog'\n",
    "index = animals.index('dog')\n",
    "print(index)"
   ]
  },
  {
   "cell_type": "code",
   "execution_count": 7,
   "metadata": {},
   "outputs": [
    {
     "name": "stdout",
     "output_type": "stream",
     "text": [
      "Removed Element: 5\n"
     ]
    }
   ],
   "source": [
    "#pop\n",
    "prime_numbers = [2, 3, 5, 7]\n",
    "removed_element = prime_numbers.pop(2)\n",
    "print('Removed Element:', removed_element)"
   ]
  },
  {
   "cell_type": "code",
   "execution_count": 8,
   "metadata": {},
   "outputs": [
    {
     "name": "stdout",
     "output_type": "stream",
     "text": [
      "[2, 3, 5, 7, 11]\n"
     ]
    }
   ],
   "source": [
    "#sorted\n",
    "prime_numbers = [11, 3, 7, 5, 2]\n",
    "prime_numbers.sort()\n",
    "print(prime_numbers)"
   ]
  },
  {
   "cell_type": "code",
   "execution_count": 9,
   "metadata": {},
   "outputs": [
    {
     "name": "stdout",
     "output_type": "stream",
     "text": [
      "Copied List: [2, 3, 5]\n"
     ]
    }
   ],
   "source": [
    "#copy\n",
    "prime_numbers = [2, 3, 5]\n",
    "numbers = prime_numbers.copy()\n",
    "print('Copied List:', numbers)"
   ]
  },
  {
   "cell_type": "code",
   "execution_count": 10,
   "metadata": {},
   "outputs": [
    {
     "name": "stdout",
     "output_type": "stream",
     "text": [
      "List after clear(): []\n"
     ]
    }
   ],
   "source": [
    "#clear\n",
    "prime_numbers = [2, 3, 5, 7, 9, 11]\n",
    "prime_numbers.clear()\n",
    "print('List after clear():', prime_numbers)"
   ]
  },
  {
   "cell_type": "code",
   "execution_count": 11,
   "metadata": {},
   "outputs": [
    {
     "name": "stdout",
     "output_type": "stream",
     "text": [
      "True\n"
     ]
    }
   ],
   "source": [
    "#any\n",
    "boolean_list = ['True', 'False', 'True']\n",
    "result = any(boolean_list)\n",
    "print(result)\n"
   ]
  },
  {
   "cell_type": "code",
   "execution_count": 12,
   "metadata": {},
   "outputs": [
    {
     "name": "stdout",
     "output_type": "stream",
     "text": [
      "[2, 4, 6, 8, 10]\n"
     ]
    }
   ],
   "source": [
    "#filter\n",
    "numbers = [1, 2, 3, 4, 5, 6, 7, 8, 9, 10]\n",
    "def check_even(number):\n",
    "    if number % 2 == 0:\n",
    "          return True  \n",
    "\n",
    "    return False\n",
    "\n",
    "even_numbers_iterator = filter(check_even, numbers)\n",
    "even_numbers = list(even_numbers_iterator)\n",
    "print(even_numbers)"
   ]
  },
  {
   "cell_type": "code",
   "execution_count": 13,
   "metadata": {},
   "outputs": [],
   "source": [
    "#list\n",
    "my_list = [1, 2, 3]"
   ]
  },
  {
   "cell_type": "code",
   "execution_count": 14,
   "metadata": {},
   "outputs": [
    {
     "name": "stdout",
     "output_type": "stream",
     "text": [
      "[4, 16, 36, 64, 100]\n"
     ]
    }
   ],
   "source": [
    "#map\n",
    "numbers = [2, 4, 6, 8, 10]\n",
    "def square(number):\n",
    "  return number * number\n",
    "squared_numbers_iterator = map(square, numbers)\n",
    "squared_numbers = list(squared_numbers_iterator)\n",
    "print(squared_numbers)"
   ]
  }
 ],
 "metadata": {
  "kernelspec": {
   "display_name": "Python 3",
   "language": "python",
   "name": "python3"
  },
  "language_info": {
   "codemirror_mode": {
    "name": "ipython",
    "version": 3
   },
   "file_extension": ".py",
   "mimetype": "text/x-python",
   "name": "python",
   "nbconvert_exporter": "python",
   "pygments_lexer": "ipython3",
   "version": "3.6.6+"
  }
 },
 "nbformat": 4,
 "nbformat_minor": 2
}
